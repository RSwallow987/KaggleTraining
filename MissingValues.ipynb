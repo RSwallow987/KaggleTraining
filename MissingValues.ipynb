{
 "cells": [
  {
   "cell_type": "markdown",
   "id": "2878e532",
   "metadata": {
    "papermill": {
     "duration": 0.013057,
     "end_time": "2024-08-18T18:10:55.768812",
     "exception": false,
     "start_time": "2024-08-18T18:10:55.755755",
     "status": "completed"
    },
    "tags": []
   },
   "source": [
    "**This notebook is an exercise in the [Intermediate Machine Learning](https://www.kaggle.com/learn/intermediate-machine-learning) course.  You can reference the tutorial at [this link](https://www.kaggle.com/alexisbcook/missing-values).**\n",
    "\n",
    "---\n"
   ]
  },
  {
   "cell_type": "markdown",
   "id": "b7f45072",
   "metadata": {
    "papermill": {
     "duration": 0.011607,
     "end_time": "2024-08-18T18:10:55.792711",
     "exception": false,
     "start_time": "2024-08-18T18:10:55.781104",
     "status": "completed"
    },
    "tags": []
   },
   "source": [
    "Now it's your turn to test your new knowledge of **missing values** handling. You'll probably find it makes a big difference.\n",
    "\n",
    "# Setup\n",
    "\n",
    "The questions will give you feedback on your work. Run the following cell to set up the feedback system."
   ]
  },
  {
   "cell_type": "code",
   "execution_count": 1,
   "id": "952729b3",
   "metadata": {
    "execution": {
     "iopub.execute_input": "2024-08-18T18:10:55.819437Z",
     "iopub.status.busy": "2024-08-18T18:10:55.818353Z",
     "iopub.status.idle": "2024-08-18T18:10:56.812483Z",
     "shell.execute_reply": "2024-08-18T18:10:56.810570Z"
    },
    "papermill": {
     "duration": 1.011324,
     "end_time": "2024-08-18T18:10:56.816175",
     "exception": false,
     "start_time": "2024-08-18T18:10:55.804851",
     "status": "completed"
    },
    "tags": []
   },
   "outputs": [
    {
     "name": "stdout",
     "output_type": "stream",
     "text": [
      "Setup Complete\n"
     ]
    }
   ],
   "source": [
    "# Set up code checking\n",
    "import os\n",
    "if not os.path.exists(\"../input/train.csv\"):\n",
    "    os.symlink(\"../input/home-data-for-ml-course/train.csv\", \"../input/train.csv\")  \n",
    "    os.symlink(\"../input/home-data-for-ml-course/test.csv\", \"../input/test.csv\") \n",
    "from learntools.core import binder\n",
    "binder.bind(globals())\n",
    "from learntools.ml_intermediate.ex2 import *\n",
    "print(\"Setup Complete\")"
   ]
  },
  {
   "cell_type": "markdown",
   "id": "7c225f55",
   "metadata": {
    "papermill": {
     "duration": 0.01214,
     "end_time": "2024-08-18T18:10:56.841163",
     "exception": false,
     "start_time": "2024-08-18T18:10:56.829023",
     "status": "completed"
    },
    "tags": []
   },
   "source": [
    "In this exercise, you will work with data from the [Housing Prices Competition for Kaggle Learn Users](https://www.kaggle.com/c/home-data-for-ml-course). \n",
    "\n",
    "![Ames Housing dataset image](https://storage.googleapis.com/kaggle-media/learn/images/lTJVG4e.png)\n",
    "\n",
    "Run the next code cell without changes to load the training and validation sets in `X_train`, `X_valid`, `y_train`, and `y_valid`.  The test set is loaded in `X_test`."
   ]
  },
  {
   "cell_type": "code",
   "execution_count": 2,
   "id": "6c89a376",
   "metadata": {
    "execution": {
     "iopub.execute_input": "2024-08-18T18:10:56.867860Z",
     "iopub.status.busy": "2024-08-18T18:10:56.867310Z",
     "iopub.status.idle": "2024-08-18T18:10:58.352209Z",
     "shell.execute_reply": "2024-08-18T18:10:58.350878Z"
    },
    "papermill": {
     "duration": 1.501712,
     "end_time": "2024-08-18T18:10:58.355163",
     "exception": false,
     "start_time": "2024-08-18T18:10:56.853451",
     "status": "completed"
    },
    "tags": []
   },
   "outputs": [],
   "source": [
    "import pandas as pd\n",
    "from sklearn.model_selection import train_test_split\n",
    "\n",
    "# Read the data\n",
    "X_full = pd.read_csv('../input/train.csv', index_col='Id')\n",
    "X_test_full = pd.read_csv('../input/test.csv', index_col='Id')\n",
    "\n",
    "# Remove rows with missing target, separate target from predictors\n",
    "X_full.dropna(axis=0, subset=['SalePrice'], inplace=True)\n",
    "y = X_full.SalePrice\n",
    "X_full.drop(['SalePrice'], axis=1, inplace=True)\n",
    "\n",
    "# To keep things simple, we'll use only numerical predictors\n",
    "X = X_full.select_dtypes(exclude=['object'])\n",
    "X_test = X_test_full.select_dtypes(exclude=['object'])\n",
    "\n",
    "# Break off validation set from training data\n",
    "X_train, X_valid, y_train, y_valid = train_test_split(X, y, train_size=0.8, test_size=0.2,\n",
    "                                                      random_state=0)"
   ]
  },
  {
   "cell_type": "markdown",
   "id": "38cfe792",
   "metadata": {
    "papermill": {
     "duration": 0.012167,
     "end_time": "2024-08-18T18:10:58.379680",
     "exception": false,
     "start_time": "2024-08-18T18:10:58.367513",
     "status": "completed"
    },
    "tags": []
   },
   "source": [
    "Use the next code cell to print the first five rows of the data."
   ]
  },
  {
   "cell_type": "code",
   "execution_count": 3,
   "id": "9f50b98b",
   "metadata": {
    "execution": {
     "iopub.execute_input": "2024-08-18T18:10:58.405817Z",
     "iopub.status.busy": "2024-08-18T18:10:58.405385Z",
     "iopub.status.idle": "2024-08-18T18:10:58.436934Z",
     "shell.execute_reply": "2024-08-18T18:10:58.435817Z"
    },
    "papermill": {
     "duration": 0.047994,
     "end_time": "2024-08-18T18:10:58.439861",
     "exception": false,
     "start_time": "2024-08-18T18:10:58.391867",
     "status": "completed"
    },
    "tags": []
   },
   "outputs": [
    {
     "data": {
      "text/html": [
       "<div>\n",
       "<style scoped>\n",
       "    .dataframe tbody tr th:only-of-type {\n",
       "        vertical-align: middle;\n",
       "    }\n",
       "\n",
       "    .dataframe tbody tr th {\n",
       "        vertical-align: top;\n",
       "    }\n",
       "\n",
       "    .dataframe thead th {\n",
       "        text-align: right;\n",
       "    }\n",
       "</style>\n",
       "<table border=\"1\" class=\"dataframe\">\n",
       "  <thead>\n",
       "    <tr style=\"text-align: right;\">\n",
       "      <th></th>\n",
       "      <th>MSSubClass</th>\n",
       "      <th>LotFrontage</th>\n",
       "      <th>LotArea</th>\n",
       "      <th>OverallQual</th>\n",
       "      <th>OverallCond</th>\n",
       "      <th>YearBuilt</th>\n",
       "      <th>YearRemodAdd</th>\n",
       "      <th>MasVnrArea</th>\n",
       "      <th>BsmtFinSF1</th>\n",
       "      <th>BsmtFinSF2</th>\n",
       "      <th>...</th>\n",
       "      <th>GarageArea</th>\n",
       "      <th>WoodDeckSF</th>\n",
       "      <th>OpenPorchSF</th>\n",
       "      <th>EnclosedPorch</th>\n",
       "      <th>3SsnPorch</th>\n",
       "      <th>ScreenPorch</th>\n",
       "      <th>PoolArea</th>\n",
       "      <th>MiscVal</th>\n",
       "      <th>MoSold</th>\n",
       "      <th>YrSold</th>\n",
       "    </tr>\n",
       "    <tr>\n",
       "      <th>Id</th>\n",
       "      <th></th>\n",
       "      <th></th>\n",
       "      <th></th>\n",
       "      <th></th>\n",
       "      <th></th>\n",
       "      <th></th>\n",
       "      <th></th>\n",
       "      <th></th>\n",
       "      <th></th>\n",
       "      <th></th>\n",
       "      <th></th>\n",
       "      <th></th>\n",
       "      <th></th>\n",
       "      <th></th>\n",
       "      <th></th>\n",
       "      <th></th>\n",
       "      <th></th>\n",
       "      <th></th>\n",
       "      <th></th>\n",
       "      <th></th>\n",
       "      <th></th>\n",
       "    </tr>\n",
       "  </thead>\n",
       "  <tbody>\n",
       "    <tr>\n",
       "      <th>619</th>\n",
       "      <td>20</td>\n",
       "      <td>90.0</td>\n",
       "      <td>11694</td>\n",
       "      <td>9</td>\n",
       "      <td>5</td>\n",
       "      <td>2007</td>\n",
       "      <td>2007</td>\n",
       "      <td>452.0</td>\n",
       "      <td>48</td>\n",
       "      <td>0</td>\n",
       "      <td>...</td>\n",
       "      <td>774</td>\n",
       "      <td>0</td>\n",
       "      <td>108</td>\n",
       "      <td>0</td>\n",
       "      <td>0</td>\n",
       "      <td>260</td>\n",
       "      <td>0</td>\n",
       "      <td>0</td>\n",
       "      <td>7</td>\n",
       "      <td>2007</td>\n",
       "    </tr>\n",
       "    <tr>\n",
       "      <th>871</th>\n",
       "      <td>20</td>\n",
       "      <td>60.0</td>\n",
       "      <td>6600</td>\n",
       "      <td>5</td>\n",
       "      <td>5</td>\n",
       "      <td>1962</td>\n",
       "      <td>1962</td>\n",
       "      <td>0.0</td>\n",
       "      <td>0</td>\n",
       "      <td>0</td>\n",
       "      <td>...</td>\n",
       "      <td>308</td>\n",
       "      <td>0</td>\n",
       "      <td>0</td>\n",
       "      <td>0</td>\n",
       "      <td>0</td>\n",
       "      <td>0</td>\n",
       "      <td>0</td>\n",
       "      <td>0</td>\n",
       "      <td>8</td>\n",
       "      <td>2009</td>\n",
       "    </tr>\n",
       "    <tr>\n",
       "      <th>93</th>\n",
       "      <td>30</td>\n",
       "      <td>80.0</td>\n",
       "      <td>13360</td>\n",
       "      <td>5</td>\n",
       "      <td>7</td>\n",
       "      <td>1921</td>\n",
       "      <td>2006</td>\n",
       "      <td>0.0</td>\n",
       "      <td>713</td>\n",
       "      <td>0</td>\n",
       "      <td>...</td>\n",
       "      <td>432</td>\n",
       "      <td>0</td>\n",
       "      <td>0</td>\n",
       "      <td>44</td>\n",
       "      <td>0</td>\n",
       "      <td>0</td>\n",
       "      <td>0</td>\n",
       "      <td>0</td>\n",
       "      <td>8</td>\n",
       "      <td>2009</td>\n",
       "    </tr>\n",
       "    <tr>\n",
       "      <th>818</th>\n",
       "      <td>20</td>\n",
       "      <td>NaN</td>\n",
       "      <td>13265</td>\n",
       "      <td>8</td>\n",
       "      <td>5</td>\n",
       "      <td>2002</td>\n",
       "      <td>2002</td>\n",
       "      <td>148.0</td>\n",
       "      <td>1218</td>\n",
       "      <td>0</td>\n",
       "      <td>...</td>\n",
       "      <td>857</td>\n",
       "      <td>150</td>\n",
       "      <td>59</td>\n",
       "      <td>0</td>\n",
       "      <td>0</td>\n",
       "      <td>0</td>\n",
       "      <td>0</td>\n",
       "      <td>0</td>\n",
       "      <td>7</td>\n",
       "      <td>2008</td>\n",
       "    </tr>\n",
       "    <tr>\n",
       "      <th>303</th>\n",
       "      <td>20</td>\n",
       "      <td>118.0</td>\n",
       "      <td>13704</td>\n",
       "      <td>7</td>\n",
       "      <td>5</td>\n",
       "      <td>2001</td>\n",
       "      <td>2002</td>\n",
       "      <td>150.0</td>\n",
       "      <td>0</td>\n",
       "      <td>0</td>\n",
       "      <td>...</td>\n",
       "      <td>843</td>\n",
       "      <td>468</td>\n",
       "      <td>81</td>\n",
       "      <td>0</td>\n",
       "      <td>0</td>\n",
       "      <td>0</td>\n",
       "      <td>0</td>\n",
       "      <td>0</td>\n",
       "      <td>1</td>\n",
       "      <td>2006</td>\n",
       "    </tr>\n",
       "  </tbody>\n",
       "</table>\n",
       "<p>5 rows × 36 columns</p>\n",
       "</div>"
      ],
      "text/plain": [
       "     MSSubClass  LotFrontage  LotArea  OverallQual  OverallCond  YearBuilt  \\\n",
       "Id                                                                           \n",
       "619          20         90.0    11694            9            5       2007   \n",
       "871          20         60.0     6600            5            5       1962   \n",
       "93           30         80.0    13360            5            7       1921   \n",
       "818          20          NaN    13265            8            5       2002   \n",
       "303          20        118.0    13704            7            5       2001   \n",
       "\n",
       "     YearRemodAdd  MasVnrArea  BsmtFinSF1  BsmtFinSF2  ...  GarageArea  \\\n",
       "Id                                                     ...               \n",
       "619          2007       452.0          48           0  ...         774   \n",
       "871          1962         0.0           0           0  ...         308   \n",
       "93           2006         0.0         713           0  ...         432   \n",
       "818          2002       148.0        1218           0  ...         857   \n",
       "303          2002       150.0           0           0  ...         843   \n",
       "\n",
       "     WoodDeckSF  OpenPorchSF  EnclosedPorch  3SsnPorch  ScreenPorch  PoolArea  \\\n",
       "Id                                                                              \n",
       "619           0          108              0          0          260         0   \n",
       "871           0            0              0          0            0         0   \n",
       "93            0            0             44          0            0         0   \n",
       "818         150           59              0          0            0         0   \n",
       "303         468           81              0          0            0         0   \n",
       "\n",
       "     MiscVal  MoSold  YrSold  \n",
       "Id                            \n",
       "619        0       7    2007  \n",
       "871        0       8    2009  \n",
       "93         0       8    2009  \n",
       "818        0       7    2008  \n",
       "303        0       1    2006  \n",
       "\n",
       "[5 rows x 36 columns]"
      ]
     },
     "execution_count": 3,
     "metadata": {},
     "output_type": "execute_result"
    }
   ],
   "source": [
    "X_train.head()"
   ]
  },
  {
   "cell_type": "markdown",
   "id": "10f4b960",
   "metadata": {
    "papermill": {
     "duration": 0.01259,
     "end_time": "2024-08-18T18:10:58.467426",
     "exception": false,
     "start_time": "2024-08-18T18:10:58.454836",
     "status": "completed"
    },
    "tags": []
   },
   "source": [
    "You can already see a few missing values in the first several rows.  In the next step, you'll obtain a more comprehensive understanding of the missing values in the dataset.\n",
    "\n",
    "# Step 1: Preliminary investigation\n",
    "\n",
    "Run the code cell below without changes."
   ]
  },
  {
   "cell_type": "code",
   "execution_count": 4,
   "id": "3fdab281",
   "metadata": {
    "execution": {
     "iopub.execute_input": "2024-08-18T18:10:58.494842Z",
     "iopub.status.busy": "2024-08-18T18:10:58.493765Z",
     "iopub.status.idle": "2024-08-18T18:10:58.502689Z",
     "shell.execute_reply": "2024-08-18T18:10:58.501572Z"
    },
    "papermill": {
     "duration": 0.025497,
     "end_time": "2024-08-18T18:10:58.505494",
     "exception": false,
     "start_time": "2024-08-18T18:10:58.479997",
     "status": "completed"
    },
    "tags": []
   },
   "outputs": [
    {
     "name": "stdout",
     "output_type": "stream",
     "text": [
      "(1168, 36)\n",
      "LotFrontage    212\n",
      "MasVnrArea       6\n",
      "GarageYrBlt     58\n",
      "dtype: int64\n"
     ]
    }
   ],
   "source": [
    "# Shape of training data (num_rows, num_columns)\n",
    "print(X_train.shape)\n",
    "\n",
    "# Number of missing values in each column of training data\n",
    "missing_val_count_by_column = (X_train.isnull().sum())\n",
    "print(missing_val_count_by_column[missing_val_count_by_column > 0])"
   ]
  },
  {
   "cell_type": "markdown",
   "id": "72cbdafe",
   "metadata": {
    "papermill": {
     "duration": 0.012239,
     "end_time": "2024-08-18T18:10:58.530801",
     "exception": false,
     "start_time": "2024-08-18T18:10:58.518562",
     "status": "completed"
    },
    "tags": []
   },
   "source": [
    "### Part A\n",
    "\n",
    "Use the above output to answer the questions below."
   ]
  },
  {
   "cell_type": "code",
   "execution_count": 5,
   "id": "940ed176",
   "metadata": {
    "execution": {
     "iopub.execute_input": "2024-08-18T18:10:58.558799Z",
     "iopub.status.busy": "2024-08-18T18:10:58.558422Z",
     "iopub.status.idle": "2024-08-18T18:10:58.568544Z",
     "shell.execute_reply": "2024-08-18T18:10:58.567429Z"
    },
    "papermill": {
     "duration": 0.027428,
     "end_time": "2024-08-18T18:10:58.571532",
     "exception": false,
     "start_time": "2024-08-18T18:10:58.544104",
     "status": "completed"
    },
    "tags": []
   },
   "outputs": [
    {
     "data": {
      "application/javascript": [
       "parent.postMessage({\"jupyterEvent\": \"custom.exercise_interaction\", \"data\": {\"outcomeType\": 1, \"valueTowardsCompletion\": 1.0, \"interactionType\": 1, \"questionType\": 1, \"questionId\": \"1.1_InvestigateEquality\", \"learnToolsVersion\": \"0.3.4\", \"failureMessage\": \"\", \"exceptionClass\": \"\", \"trace\": \"\"}}, \"*\")"
      ],
      "text/plain": [
       "<IPython.core.display.Javascript object>"
      ]
     },
     "metadata": {},
     "output_type": "display_data"
    },
    {
     "data": {
      "text/markdown": [
       "<span style=\"color:#33cc33\">Correct</span>"
      ],
      "text/plain": [
       "Correct"
      ]
     },
     "metadata": {},
     "output_type": "display_data"
    }
   ],
   "source": [
    "# Fill in the line below: How many rows are in the training data?\n",
    "num_rows = 1168\n",
    "\n",
    "# Fill in the line below: How many columns in the training data\n",
    "# have missing values?\n",
    "num_cols_with_missing = 3\n",
    "\n",
    "# Fill in the line below: How many missing entries are contained in \n",
    "# all of the training data?\n",
    "tot_missing =276\n",
    "\n",
    "# Check your answers\n",
    "step_1.a.check()"
   ]
  },
  {
   "cell_type": "code",
   "execution_count": 6,
   "id": "13c11f84",
   "metadata": {
    "execution": {
     "iopub.execute_input": "2024-08-18T18:10:58.599877Z",
     "iopub.status.busy": "2024-08-18T18:10:58.599490Z",
     "iopub.status.idle": "2024-08-18T18:10:58.604186Z",
     "shell.execute_reply": "2024-08-18T18:10:58.603004Z"
    },
    "papermill": {
     "duration": 0.022039,
     "end_time": "2024-08-18T18:10:58.606745",
     "exception": false,
     "start_time": "2024-08-18T18:10:58.584706",
     "status": "completed"
    },
    "tags": []
   },
   "outputs": [],
   "source": [
    "# Lines below will give you a hint or solution code\n",
    "#step_1.a.hint()\n",
    "#step_1.a.solution()"
   ]
  },
  {
   "cell_type": "markdown",
   "id": "e07a3218",
   "metadata": {
    "papermill": {
     "duration": 0.012423,
     "end_time": "2024-08-18T18:10:58.632122",
     "exception": false,
     "start_time": "2024-08-18T18:10:58.619699",
     "status": "completed"
    },
    "tags": []
   },
   "source": [
    "### Part B\n",
    "Considering your answers above, what do you think is likely the best approach to dealing with the missing values?"
   ]
  },
  {
   "cell_type": "code",
   "execution_count": 7,
   "id": "f515c074",
   "metadata": {
    "execution": {
     "iopub.execute_input": "2024-08-18T18:10:58.659492Z",
     "iopub.status.busy": "2024-08-18T18:10:58.659116Z",
     "iopub.status.idle": "2024-08-18T18:10:58.669080Z",
     "shell.execute_reply": "2024-08-18T18:10:58.667781Z"
    },
    "papermill": {
     "duration": 0.026533,
     "end_time": "2024-08-18T18:10:58.671528",
     "exception": false,
     "start_time": "2024-08-18T18:10:58.644995",
     "status": "completed"
    },
    "tags": []
   },
   "outputs": [
    {
     "data": {
      "application/javascript": [
       "parent.postMessage({\"jupyterEvent\": \"custom.exercise_interaction\", \"data\": {\"outcomeType\": 1, \"valueTowardsCompletion\": 1.0, \"interactionType\": 1, \"questionType\": 4, \"questionId\": \"1.2_InvestigateThought\", \"learnToolsVersion\": \"0.3.4\", \"failureMessage\": \"\", \"exceptionClass\": \"\", \"trace\": \"\"}}, \"*\")"
      ],
      "text/plain": [
       "<IPython.core.display.Javascript object>"
      ]
     },
     "metadata": {},
     "output_type": "display_data"
    },
    {
     "data": {
      "text/markdown": [
       "<span style=\"color:#33cc33\">Correct:</span> \n",
       "\n",
       "Since there are relatively few missing entries in the data (the column with the greatest percentage of missing values is missing less than 20% of its entries), we can expect that dropping columns is unlikely to yield good results.  This is because we'd be throwing away a lot of valuable data, and so imputation will likely perform better."
      ],
      "text/plain": [
       "Correct: \n",
       "\n",
       "Since there are relatively few missing entries in the data (the column with the greatest percentage of missing values is missing less than 20% of its entries), we can expect that dropping columns is unlikely to yield good results.  This is because we'd be throwing away a lot of valuable data, and so imputation will likely perform better."
      ]
     },
     "metadata": {},
     "output_type": "display_data"
    }
   ],
   "source": [
    "# Check your answer (Run this code cell to receive credit!)\n",
    "step_1.b.check()"
   ]
  },
  {
   "cell_type": "code",
   "execution_count": 8,
   "id": "c380819c",
   "metadata": {
    "execution": {
     "iopub.execute_input": "2024-08-18T18:10:58.699750Z",
     "iopub.status.busy": "2024-08-18T18:10:58.699325Z",
     "iopub.status.idle": "2024-08-18T18:10:58.704235Z",
     "shell.execute_reply": "2024-08-18T18:10:58.703008Z"
    },
    "papermill": {
     "duration": 0.022025,
     "end_time": "2024-08-18T18:10:58.706718",
     "exception": false,
     "start_time": "2024-08-18T18:10:58.684693",
     "status": "completed"
    },
    "tags": []
   },
   "outputs": [],
   "source": [
    "#step_1.b.hint()"
   ]
  },
  {
   "cell_type": "markdown",
   "id": "a4bdabcd",
   "metadata": {
    "papermill": {
     "duration": 0.013298,
     "end_time": "2024-08-18T18:10:58.734163",
     "exception": false,
     "start_time": "2024-08-18T18:10:58.720865",
     "status": "completed"
    },
    "tags": []
   },
   "source": [
    "To compare different approaches to dealing with missing values, you'll use the same `score_dataset()` function from the tutorial.  This function reports the [mean absolute error](https://en.wikipedia.org/wiki/Mean_absolute_error) (MAE) from a random forest model."
   ]
  },
  {
   "cell_type": "code",
   "execution_count": 9,
   "id": "e2a1ea73",
   "metadata": {
    "execution": {
     "iopub.execute_input": "2024-08-18T18:10:58.762446Z",
     "iopub.status.busy": "2024-08-18T18:10:58.762067Z",
     "iopub.status.idle": "2024-08-18T18:10:59.126611Z",
     "shell.execute_reply": "2024-08-18T18:10:59.125019Z"
    },
    "papermill": {
     "duration": 0.381966,
     "end_time": "2024-08-18T18:10:59.129509",
     "exception": false,
     "start_time": "2024-08-18T18:10:58.747543",
     "status": "completed"
    },
    "tags": []
   },
   "outputs": [],
   "source": [
    "from sklearn.ensemble import RandomForestRegressor\n",
    "from sklearn.metrics import mean_absolute_error\n",
    "\n",
    "# Function for comparing different approaches\n",
    "def score_dataset(X_train, X_valid, y_train, y_valid):\n",
    "    model = RandomForestRegressor(n_estimators=100, random_state=0)\n",
    "    model.fit(X_train, y_train)\n",
    "    preds = model.predict(X_valid)\n",
    "    return mean_absolute_error(y_valid, preds)"
   ]
  },
  {
   "cell_type": "markdown",
   "id": "e23de8fd",
   "metadata": {
    "papermill": {
     "duration": 0.013091,
     "end_time": "2024-08-18T18:10:59.155985",
     "exception": false,
     "start_time": "2024-08-18T18:10:59.142894",
     "status": "completed"
    },
    "tags": []
   },
   "source": [
    "# Step 2: Drop columns with missing values\n",
    "\n",
    "In this step, you'll preprocess the data in `X_train` and `X_valid` to remove columns with missing values.  Set the preprocessed DataFrames to `reduced_X_train` and `reduced_X_valid`, respectively.  "
   ]
  },
  {
   "cell_type": "code",
   "execution_count": 10,
   "id": "bbe38ec0",
   "metadata": {
    "execution": {
     "iopub.execute_input": "2024-08-18T18:10:59.185112Z",
     "iopub.status.busy": "2024-08-18T18:10:59.184632Z",
     "iopub.status.idle": "2024-08-18T18:10:59.210614Z",
     "shell.execute_reply": "2024-08-18T18:10:59.209480Z"
    },
    "papermill": {
     "duration": 0.043539,
     "end_time": "2024-08-18T18:10:59.213251",
     "exception": false,
     "start_time": "2024-08-18T18:10:59.169712",
     "status": "completed"
    },
    "tags": []
   },
   "outputs": [
    {
     "data": {
      "application/javascript": [
       "parent.postMessage({\"jupyterEvent\": \"custom.exercise_interaction\", \"data\": {\"outcomeType\": 1, \"valueTowardsCompletion\": 1.0, \"interactionType\": 1, \"questionType\": 2, \"questionId\": \"2_DropMissing\", \"learnToolsVersion\": \"0.3.4\", \"failureMessage\": \"\", \"exceptionClass\": \"\", \"trace\": \"\"}}, \"*\")"
      ],
      "text/plain": [
       "<IPython.core.display.Javascript object>"
      ]
     },
     "metadata": {},
     "output_type": "display_data"
    },
    {
     "data": {
      "text/markdown": [
       "<span style=\"color:#33cc33\">Correct</span>"
      ],
      "text/plain": [
       "Correct"
      ]
     },
     "metadata": {},
     "output_type": "display_data"
    }
   ],
   "source": [
    "# Fill in the line below: get names of columns with missing values\n",
    "missing=X_train.columns[X_train.isna().sum()>0]\n",
    "____ # Your code here\n",
    "\n",
    "# Fill in the lines below: drop columns in training and validation data\n",
    "reduced_X_train =X_train.drop(axis=1, columns=missing)\n",
    "reduced_X_valid = X_valid.drop(axis=1, columns=missing)\n",
    "\n",
    "# Check your answers\n",
    "step_2.check()"
   ]
  },
  {
   "cell_type": "code",
   "execution_count": 11,
   "id": "dc6132b9",
   "metadata": {
    "execution": {
     "iopub.execute_input": "2024-08-18T18:10:59.243305Z",
     "iopub.status.busy": "2024-08-18T18:10:59.241996Z",
     "iopub.status.idle": "2024-08-18T18:10:59.247989Z",
     "shell.execute_reply": "2024-08-18T18:10:59.246780Z"
    },
    "papermill": {
     "duration": 0.023546,
     "end_time": "2024-08-18T18:10:59.250569",
     "exception": false,
     "start_time": "2024-08-18T18:10:59.227023",
     "status": "completed"
    },
    "tags": []
   },
   "outputs": [],
   "source": [
    "# Lines below will give you a hint or solution code\n",
    "#step_2.hint()\n",
    "#step_2.solution()"
   ]
  },
  {
   "cell_type": "markdown",
   "id": "6e2ef46e",
   "metadata": {
    "papermill": {
     "duration": 0.013363,
     "end_time": "2024-08-18T18:10:59.277816",
     "exception": false,
     "start_time": "2024-08-18T18:10:59.264453",
     "status": "completed"
    },
    "tags": []
   },
   "source": [
    "Run the next code cell without changes to obtain the MAE for this approach."
   ]
  },
  {
   "cell_type": "code",
   "execution_count": 12,
   "id": "81f6046c",
   "metadata": {
    "execution": {
     "iopub.execute_input": "2024-08-18T18:10:59.306856Z",
     "iopub.status.busy": "2024-08-18T18:10:59.306440Z",
     "iopub.status.idle": "2024-08-18T18:11:00.629305Z",
     "shell.execute_reply": "2024-08-18T18:11:00.628177Z"
    },
    "papermill": {
     "duration": 1.340328,
     "end_time": "2024-08-18T18:11:00.631816",
     "exception": false,
     "start_time": "2024-08-18T18:10:59.291488",
     "status": "completed"
    },
    "tags": []
   },
   "outputs": [
    {
     "name": "stdout",
     "output_type": "stream",
     "text": [
      "MAE (Drop columns with missing values):\n",
      "17837.82570776256\n"
     ]
    }
   ],
   "source": [
    "print(\"MAE (Drop columns with missing values):\")\n",
    "print(score_dataset(reduced_X_train, reduced_X_valid, y_train, y_valid))"
   ]
  },
  {
   "cell_type": "markdown",
   "id": "2e847260",
   "metadata": {
    "papermill": {
     "duration": 0.014487,
     "end_time": "2024-08-18T18:11:00.660190",
     "exception": false,
     "start_time": "2024-08-18T18:11:00.645703",
     "status": "completed"
    },
    "tags": []
   },
   "source": [
    "# Step 3: Imputation\n",
    "\n",
    "### Part A\n",
    "\n",
    "Use the next code cell to impute missing values with the mean value along each column.  Set the preprocessed DataFrames to `imputed_X_train` and `imputed_X_valid`.  Make sure that the column names match those in `X_train` and `X_valid`."
   ]
  },
  {
   "cell_type": "code",
   "execution_count": 13,
   "id": "acfd8420",
   "metadata": {
    "execution": {
     "iopub.execute_input": "2024-08-18T18:11:00.689478Z",
     "iopub.status.busy": "2024-08-18T18:11:00.689045Z",
     "iopub.status.idle": "2024-08-18T18:11:00.724160Z",
     "shell.execute_reply": "2024-08-18T18:11:00.722995Z"
    },
    "papermill": {
     "duration": 0.052553,
     "end_time": "2024-08-18T18:11:00.726581",
     "exception": false,
     "start_time": "2024-08-18T18:11:00.674028",
     "status": "completed"
    },
    "tags": []
   },
   "outputs": [
    {
     "data": {
      "application/javascript": [
       "parent.postMessage({\"jupyterEvent\": \"custom.exercise_interaction\", \"data\": {\"outcomeType\": 1, \"valueTowardsCompletion\": 1.0, \"interactionType\": 1, \"questionType\": 2, \"questionId\": \"3.1_ImputeCode\", \"learnToolsVersion\": \"0.3.4\", \"failureMessage\": \"\", \"exceptionClass\": \"\", \"trace\": \"\"}}, \"*\")"
      ],
      "text/plain": [
       "<IPython.core.display.Javascript object>"
      ]
     },
     "metadata": {},
     "output_type": "display_data"
    },
    {
     "data": {
      "text/markdown": [
       "<span style=\"color:#33cc33\">Correct</span>"
      ],
      "text/plain": [
       "Correct"
      ]
     },
     "metadata": {},
     "output_type": "display_data"
    }
   ],
   "source": [
    "from sklearn.impute import SimpleImputer\n",
    "\n",
    "# Fill in the lines below: imputation\n",
    "SI=SimpleImputer(strategy='mean')\n",
    "SI.fit(X_train)\n",
    "imputed_X_train = SI.transform(X_train)\n",
    "imputed_X_valid =SI.transform(X_valid)\n",
    "\n",
    "# Fill in the lines below: imputation removed column names; put them back\n",
    "imputed_X_train=pd.DataFrame(imputed_X_train, columns=X_train.columns)\n",
    "imputed_X_valid =pd.DataFrame(imputed_X_valid, columns=X_valid.columns)\n",
    "\n",
    "# Check your answers\n",
    "step_3.a.check()"
   ]
  },
  {
   "cell_type": "code",
   "execution_count": 14,
   "id": "ae55e683",
   "metadata": {
    "execution": {
     "iopub.execute_input": "2024-08-18T18:11:00.757499Z",
     "iopub.status.busy": "2024-08-18T18:11:00.757058Z",
     "iopub.status.idle": "2024-08-18T18:11:00.762156Z",
     "shell.execute_reply": "2024-08-18T18:11:00.760994Z"
    },
    "papermill": {
     "duration": 0.023188,
     "end_time": "2024-08-18T18:11:00.764736",
     "exception": false,
     "start_time": "2024-08-18T18:11:00.741548",
     "status": "completed"
    },
    "tags": []
   },
   "outputs": [],
   "source": [
    "# Lines below will give you a hint or solution code\n",
    "#step_3.a.hint()\n",
    "#step_3.a.solution()"
   ]
  },
  {
   "cell_type": "markdown",
   "id": "57c51046",
   "metadata": {
    "papermill": {
     "duration": 0.014305,
     "end_time": "2024-08-18T18:11:00.794336",
     "exception": false,
     "start_time": "2024-08-18T18:11:00.780031",
     "status": "completed"
    },
    "tags": []
   },
   "source": [
    "Run the next code cell without changes to obtain the MAE for this approach."
   ]
  },
  {
   "cell_type": "code",
   "execution_count": 15,
   "id": "0e8d2699",
   "metadata": {
    "execution": {
     "iopub.execute_input": "2024-08-18T18:11:00.824493Z",
     "iopub.status.busy": "2024-08-18T18:11:00.824047Z",
     "iopub.status.idle": "2024-08-18T18:11:02.359554Z",
     "shell.execute_reply": "2024-08-18T18:11:02.358009Z"
    },
    "papermill": {
     "duration": 1.553666,
     "end_time": "2024-08-18T18:11:02.362298",
     "exception": false,
     "start_time": "2024-08-18T18:11:00.808632",
     "status": "completed"
    },
    "tags": []
   },
   "outputs": [
    {
     "name": "stdout",
     "output_type": "stream",
     "text": [
      "MAE (Imputation):\n",
      "18062.894611872147\n"
     ]
    }
   ],
   "source": [
    "print(\"MAE (Imputation):\")\n",
    "print(score_dataset(imputed_X_train, imputed_X_valid, y_train, y_valid))"
   ]
  },
  {
   "cell_type": "markdown",
   "id": "e9c5a36e",
   "metadata": {
    "papermill": {
     "duration": 0.0139,
     "end_time": "2024-08-18T18:11:02.390688",
     "exception": false,
     "start_time": "2024-08-18T18:11:02.376788",
     "status": "completed"
    },
    "tags": []
   },
   "source": [
    "### Part B\n",
    "\n",
    "Compare the MAE from each approach.  Does anything surprise you about the results?  Why do you think one approach performed better than the other?"
   ]
  },
  {
   "cell_type": "code",
   "execution_count": 16,
   "id": "24f4b549",
   "metadata": {
    "execution": {
     "iopub.execute_input": "2024-08-18T18:11:02.421968Z",
     "iopub.status.busy": "2024-08-18T18:11:02.420936Z",
     "iopub.status.idle": "2024-08-18T18:11:02.430211Z",
     "shell.execute_reply": "2024-08-18T18:11:02.429063Z"
    },
    "papermill": {
     "duration": 0.027166,
     "end_time": "2024-08-18T18:11:02.432486",
     "exception": false,
     "start_time": "2024-08-18T18:11:02.405320",
     "status": "completed"
    },
    "tags": []
   },
   "outputs": [
    {
     "data": {
      "application/javascript": [
       "parent.postMessage({\"jupyterEvent\": \"custom.exercise_interaction\", \"data\": {\"outcomeType\": 1, \"valueTowardsCompletion\": 1.0, \"interactionType\": 1, \"questionType\": 4, \"questionId\": \"3.2_ImputeThought\", \"learnToolsVersion\": \"0.3.4\", \"failureMessage\": \"\", \"exceptionClass\": \"\", \"trace\": \"\"}}, \"*\")"
      ],
      "text/plain": [
       "<IPython.core.display.Javascript object>"
      ]
     },
     "metadata": {},
     "output_type": "display_data"
    },
    {
     "data": {
      "text/markdown": [
       "<span style=\"color:#33cc33\">Correct:</span> \n",
       "\n",
       "Given that thre are so few missing values in the dataset, we'd expect imputation to perform better than dropping columns entirely.  However, we see that dropping columns performs slightly better!  While this can probably partially be attributed to noise in the dataset, another potential explanation is that the imputation method is not a great match to this dataset.  That is, maybe instead of filling in the mean value, it makes more sense to set every missing value to a value of 0, to fill in the most frequently encountered value, or to use some other method.  For instance, consider the `GarageYrBlt` column (which indicates the year that the garage was built).  It's likely that in some cases, a missing value could indicate a house that does not have a garage.  Does it make more sense to fill in the median value along each column in this case?  Or could we get better results by filling in the minimum value along each column?  It's not quite clear what's best in this case, but perhaps we can rule out some options immediately - for instance, setting missing values in this column to 0 is likely to yield horrible results!"
      ],
      "text/plain": [
       "Correct: \n",
       "\n",
       "Given that thre are so few missing values in the dataset, we'd expect imputation to perform better than dropping columns entirely.  However, we see that dropping columns performs slightly better!  While this can probably partially be attributed to noise in the dataset, another potential explanation is that the imputation method is not a great match to this dataset.  That is, maybe instead of filling in the mean value, it makes more sense to set every missing value to a value of 0, to fill in the most frequently encountered value, or to use some other method.  For instance, consider the `GarageYrBlt` column (which indicates the year that the garage was built).  It's likely that in some cases, a missing value could indicate a house that does not have a garage.  Does it make more sense to fill in the median value along each column in this case?  Or could we get better results by filling in the minimum value along each column?  It's not quite clear what's best in this case, but perhaps we can rule out some options immediately - for instance, setting missing values in this column to 0 is likely to yield horrible results!"
      ]
     },
     "metadata": {},
     "output_type": "display_data"
    }
   ],
   "source": [
    "# Check your answer (Run this code cell to receive credit!)\n",
    "step_3.b.check()"
   ]
  },
  {
   "cell_type": "code",
   "execution_count": 17,
   "id": "0cd99465",
   "metadata": {
    "execution": {
     "iopub.execute_input": "2024-08-18T18:11:02.464976Z",
     "iopub.status.busy": "2024-08-18T18:11:02.463980Z",
     "iopub.status.idle": "2024-08-18T18:11:02.468931Z",
     "shell.execute_reply": "2024-08-18T18:11:02.467574Z"
    },
    "papermill": {
     "duration": 0.024619,
     "end_time": "2024-08-18T18:11:02.472313",
     "exception": false,
     "start_time": "2024-08-18T18:11:02.447694",
     "status": "completed"
    },
    "tags": []
   },
   "outputs": [],
   "source": [
    "#step_3.b.hint()"
   ]
  },
  {
   "cell_type": "markdown",
   "id": "6cb83d5d",
   "metadata": {
    "papermill": {
     "duration": 0.014872,
     "end_time": "2024-08-18T18:11:02.502464",
     "exception": false,
     "start_time": "2024-08-18T18:11:02.487592",
     "status": "completed"
    },
    "tags": []
   },
   "source": [
    "# Step 4: Generate test predictions\n",
    "\n",
    "In this final step, you'll use any approach of your choosing to deal with missing values.  Once you've preprocessed the training and validation features, you'll train and evaluate a random forest model.  Then, you'll preprocess the test data before generating predictions that can be submitted to the competition!\n",
    "\n",
    "### Part A\n",
    "\n",
    "Use the next code cell to preprocess the training and validation data.  Set the preprocessed DataFrames to `final_X_train` and `final_X_valid`.  **You can use any approach of your choosing here!**  in order for this step to be marked as correct, you need only ensure:\n",
    "- the preprocessed DataFrames have the same number of columns,\n",
    "- the preprocessed DataFrames have no missing values, \n",
    "- `final_X_train` and `y_train` have the same number of rows, and\n",
    "- `final_X_valid` and `y_valid` have the same number of rows."
   ]
  },
  {
   "cell_type": "code",
   "execution_count": 18,
   "id": "e2ed5019",
   "metadata": {
    "execution": {
     "iopub.execute_input": "2024-08-18T18:11:02.534015Z",
     "iopub.status.busy": "2024-08-18T18:11:02.533599Z",
     "iopub.status.idle": "2024-08-18T18:11:02.569621Z",
     "shell.execute_reply": "2024-08-18T18:11:02.568451Z"
    },
    "papermill": {
     "duration": 0.054974,
     "end_time": "2024-08-18T18:11:02.572349",
     "exception": false,
     "start_time": "2024-08-18T18:11:02.517375",
     "status": "completed"
    },
    "tags": []
   },
   "outputs": [
    {
     "data": {
      "application/javascript": [
       "parent.postMessage({\"jupyterEvent\": \"custom.exercise_interaction\", \"data\": {\"outcomeType\": 1, \"valueTowardsCompletion\": 1.0, \"interactionType\": 1, \"questionType\": 2, \"questionId\": \"4.1_PredsCodeA\", \"learnToolsVersion\": \"0.3.4\", \"failureMessage\": \"\", \"exceptionClass\": \"\", \"trace\": \"\"}}, \"*\")"
      ],
      "text/plain": [
       "<IPython.core.display.Javascript object>"
      ]
     },
     "metadata": {},
     "output_type": "display_data"
    },
    {
     "data": {
      "text/markdown": [
       "<span style=\"color:#33cc33\">Correct</span>"
      ],
      "text/plain": [
       "Correct"
      ]
     },
     "metadata": {},
     "output_type": "display_data"
    }
   ],
   "source": [
    "# Preprocessed training and validation features\n",
    "S1=SimpleImputer(strategy='median')\n",
    "S1.fit(X_train)\n",
    "final_X_train = S1.transform(X_train)\n",
    "final_X_valid = S1.transform(X_valid)\n",
    "\n",
    "final_X_train=pd.DataFrame(final_X_train, columns=X_train.columns)\n",
    "final_X_valid =pd.DataFrame(final_X_valid, columns=X_valid.columns)\n",
    "\n",
    "# Check your answers\n",
    "step_4.a.check()"
   ]
  },
  {
   "cell_type": "code",
   "execution_count": 19,
   "id": "aac5e40d",
   "metadata": {
    "execution": {
     "iopub.execute_input": "2024-08-18T18:11:02.604400Z",
     "iopub.status.busy": "2024-08-18T18:11:02.603980Z",
     "iopub.status.idle": "2024-08-18T18:11:02.609136Z",
     "shell.execute_reply": "2024-08-18T18:11:02.607945Z"
    },
    "papermill": {
     "duration": 0.024124,
     "end_time": "2024-08-18T18:11:02.611636",
     "exception": false,
     "start_time": "2024-08-18T18:11:02.587512",
     "status": "completed"
    },
    "tags": []
   },
   "outputs": [],
   "source": [
    "# Lines below will give you a hint or solution code\n",
    "#step_4.a.hint()\n",
    "#step_4.a.solution()"
   ]
  },
  {
   "cell_type": "markdown",
   "id": "8a8eb935",
   "metadata": {
    "papermill": {
     "duration": 0.014786,
     "end_time": "2024-08-18T18:11:02.642162",
     "exception": false,
     "start_time": "2024-08-18T18:11:02.627376",
     "status": "completed"
    },
    "tags": []
   },
   "source": [
    "Run the next code cell to train and evaluate a random forest model.  (*Note that we don't use the `score_dataset()` function above, because we will soon use the trained model to generate test predictions!*)"
   ]
  },
  {
   "cell_type": "code",
   "execution_count": 20,
   "id": "c48fe4f6",
   "metadata": {
    "execution": {
     "iopub.execute_input": "2024-08-18T18:11:02.673954Z",
     "iopub.status.busy": "2024-08-18T18:11:02.673507Z",
     "iopub.status.idle": "2024-08-18T18:11:04.117054Z",
     "shell.execute_reply": "2024-08-18T18:11:04.115617Z"
    },
    "papermill": {
     "duration": 1.462916,
     "end_time": "2024-08-18T18:11:04.120162",
     "exception": false,
     "start_time": "2024-08-18T18:11:02.657246",
     "status": "completed"
    },
    "tags": []
   },
   "outputs": [
    {
     "name": "stdout",
     "output_type": "stream",
     "text": [
      "MAE (Your approach):\n",
      "17791.59899543379\n"
     ]
    }
   ],
   "source": [
    "# Define and fit model\n",
    "model = RandomForestRegressor(n_estimators=100, random_state=0)\n",
    "model.fit(final_X_train, y_train)\n",
    "\n",
    "# Get validation predictions and MAE\n",
    "preds_valid = model.predict(final_X_valid)\n",
    "print(\"MAE (Your approach):\")\n",
    "print(mean_absolute_error(y_valid, preds_valid))"
   ]
  },
  {
   "cell_type": "markdown",
   "id": "8774e4ea",
   "metadata": {
    "papermill": {
     "duration": 0.015424,
     "end_time": "2024-08-18T18:11:04.151731",
     "exception": false,
     "start_time": "2024-08-18T18:11:04.136307",
     "status": "completed"
    },
    "tags": []
   },
   "source": [
    "### Part B\n",
    "\n",
    "Use the next code cell to preprocess your test data.  Make sure that you use a method that agrees with how you preprocessed the training and validation data, and set the preprocessed test features to `final_X_test`.\n",
    "\n",
    "Then, use the preprocessed test features and the trained model to generate test predictions in `preds_test`.\n",
    "\n",
    "In order for this step to be marked correct, you need only ensure:\n",
    "- the preprocessed test DataFrame has no missing values, and\n",
    "- `final_X_test` has the same number of rows as `X_test`."
   ]
  },
  {
   "cell_type": "code",
   "execution_count": 21,
   "id": "d14fa700",
   "metadata": {
    "execution": {
     "iopub.execute_input": "2024-08-18T18:11:04.189280Z",
     "iopub.status.busy": "2024-08-18T18:11:04.188813Z",
     "iopub.status.idle": "2024-08-18T18:11:04.236319Z",
     "shell.execute_reply": "2024-08-18T18:11:04.235152Z"
    },
    "papermill": {
     "duration": 0.069641,
     "end_time": "2024-08-18T18:11:04.239049",
     "exception": false,
     "start_time": "2024-08-18T18:11:04.169408",
     "status": "completed"
    },
    "tags": []
   },
   "outputs": [
    {
     "data": {
      "application/javascript": [
       "parent.postMessage({\"jupyterEvent\": \"custom.exercise_interaction\", \"data\": {\"outcomeType\": 1, \"valueTowardsCompletion\": 1.0, \"interactionType\": 1, \"questionType\": 2, \"questionId\": \"4.2_PredsCodeB\", \"learnToolsVersion\": \"0.3.4\", \"failureMessage\": \"\", \"exceptionClass\": \"\", \"trace\": \"\"}}, \"*\")"
      ],
      "text/plain": [
       "<IPython.core.display.Javascript object>"
      ]
     },
     "metadata": {},
     "output_type": "display_data"
    },
    {
     "data": {
      "text/markdown": [
       "<span style=\"color:#33cc33\">Correct</span>"
      ],
      "text/plain": [
       "Correct"
      ]
     },
     "metadata": {},
     "output_type": "display_data"
    }
   ],
   "source": [
    "# Fill in the line below: preprocess test data\n",
    "final_X_test = S1.transform(X_test)\n",
    "final_X_test = pd.DataFrame(data=final_X_test, columns=X_test.columns)\n",
    "# Fill in the line below: get test predictions\n",
    "preds_test = model.predict(final_X_test)\n",
    "\n",
    "# Check your answers\n",
    "step_4.b.check()"
   ]
  },
  {
   "cell_type": "code",
   "execution_count": 22,
   "id": "84502bc5",
   "metadata": {
    "execution": {
     "iopub.execute_input": "2024-08-18T18:11:04.272473Z",
     "iopub.status.busy": "2024-08-18T18:11:04.271473Z",
     "iopub.status.idle": "2024-08-18T18:11:04.276407Z",
     "shell.execute_reply": "2024-08-18T18:11:04.275250Z"
    },
    "papermill": {
     "duration": 0.024261,
     "end_time": "2024-08-18T18:11:04.278823",
     "exception": false,
     "start_time": "2024-08-18T18:11:04.254562",
     "status": "completed"
    },
    "tags": []
   },
   "outputs": [],
   "source": [
    "# Lines below will give you a hint or solution code\n",
    "#step_4.b.hint()\n",
    "#step_4.b.solution()"
   ]
  },
  {
   "cell_type": "markdown",
   "id": "147151f8",
   "metadata": {
    "papermill": {
     "duration": 0.015318,
     "end_time": "2024-08-18T18:11:04.372325",
     "exception": false,
     "start_time": "2024-08-18T18:11:04.357007",
     "status": "completed"
    },
    "tags": []
   },
   "source": [
    "Run the next code cell without changes to save your results to a CSV file that can be submitted directly to the competition."
   ]
  },
  {
   "cell_type": "code",
   "execution_count": 23,
   "id": "23f6ff11",
   "metadata": {
    "execution": {
     "iopub.execute_input": "2024-08-18T18:11:04.405332Z",
     "iopub.status.busy": "2024-08-18T18:11:04.404938Z",
     "iopub.status.idle": "2024-08-18T18:11:04.418624Z",
     "shell.execute_reply": "2024-08-18T18:11:04.417455Z"
    },
    "papermill": {
     "duration": 0.033523,
     "end_time": "2024-08-18T18:11:04.421554",
     "exception": false,
     "start_time": "2024-08-18T18:11:04.388031",
     "status": "completed"
    },
    "tags": []
   },
   "outputs": [],
   "source": [
    "# Save test predictions to file\n",
    "output = pd.DataFrame({'Id': X_test.index,\n",
    "                       'SalePrice': preds_test})\n",
    "output.to_csv('submission.csv', index=False)"
   ]
  },
  {
   "cell_type": "markdown",
   "id": "a12b4eef",
   "metadata": {
    "papermill": {
     "duration": 0.015557,
     "end_time": "2024-08-18T18:11:04.453345",
     "exception": false,
     "start_time": "2024-08-18T18:11:04.437788",
     "status": "completed"
    },
    "tags": []
   },
   "source": [
    "# Submit your results\n",
    "\n",
    "Once you have successfully completed Step 4, you're ready to submit your results to the leaderboard!  (_You also learned how to do this in the previous exercise.  If you need a reminder of how to do this, please use the instructions below._)  \n",
    "\n",
    "First, you'll need to join the competition if you haven't already.  So open a new window by clicking on [this link](https://www.kaggle.com/c/home-data-for-ml-course).  Then click on the **Join Competition** button.\n",
    "\n",
    "![join competition image](https://storage.googleapis.com/kaggle-media/learn/images/wLmFtH3.png)\n",
    "\n",
    "Next, follow the instructions below:\n",
    "1. Begin by clicking on the **Save Version** button in the top right corner of the window.  This will generate a pop-up window.  \n",
    "2. Ensure that the **Save and Run All** option is selected, and then click on the **Save** button.\n",
    "3. This generates a window in the bottom left corner of the notebook.  After it has finished running, click on the number to the right of the **Save Version** button.  This pulls up a list of versions on the right of the screen.  Click on the ellipsis **(...)** to the right of the most recent version, and select **Open in Viewer**.  This brings you into view mode of the same page. You will need to scroll down to get back to these instructions.\n",
    "4. Click on the **Data** tab near the top of the screen.  Then, click on the file you would like to submit, and click on the **Submit** button to submit your results to the leaderboard.\n",
    "\n",
    "You have now successfully submitted to the competition!\n",
    "\n",
    "If you want to keep working to improve your performance, select the **Edit** button in the top right of the screen. Then you can change your code and repeat the process. There's a lot of room to improve, and you will climb up the leaderboard as you work.\n",
    "\n",
    "\n",
    "# Keep going\n",
    "\n",
    "Move on to learn what **[categorical variables](https://www.kaggle.com/alexisbcook/categorical-variables)** are, along with how to incorporate them into your machine learning models.  Categorical variables are very common in real-world data, but you'll get an error if you try to plug them into your models without processing them first!"
   ]
  },
  {
   "cell_type": "markdown",
   "id": "f38b707f",
   "metadata": {
    "papermill": {
     "duration": 0.017076,
     "end_time": "2024-08-18T18:11:04.486684",
     "exception": false,
     "start_time": "2024-08-18T18:11:04.469608",
     "status": "completed"
    },
    "tags": []
   },
   "source": [
    "---\n",
    "\n",
    "\n",
    "\n",
    "\n",
    "*Have questions or comments? Visit the [course discussion forum](https://www.kaggle.com/learn/intermediate-machine-learning/discussion) to chat with other learners.*"
   ]
  }
 ],
 "metadata": {
  "kaggle": {
   "accelerator": "none",
   "dataSources": [
    {
     "databundleVersionId": 111096,
     "sourceId": 10211,
     "sourceType": "competition"
    }
   ],
   "isGpuEnabled": false,
   "isInternetEnabled": false,
   "language": "python",
   "sourceType": "notebook"
  },
  "kernelspec": {
   "display_name": "Python 3",
   "language": "python",
   "name": "python3"
  },
  "language_info": {
   "codemirror_mode": {
    "name": "ipython",
    "version": 3
   },
   "file_extension": ".py",
   "mimetype": "text/x-python",
   "name": "python",
   "nbconvert_exporter": "python",
   "pygments_lexer": "ipython3",
   "version": "3.10.13"
  },
  "papermill": {
   "default_parameters": {},
   "duration": 12.570371,
   "end_time": "2024-08-18T18:11:05.124229",
   "environment_variables": {},
   "exception": null,
   "input_path": "__notebook__.ipynb",
   "output_path": "__notebook__.ipynb",
   "parameters": {},
   "start_time": "2024-08-18T18:10:52.553858",
   "version": "2.5.0"
  }
 },
 "nbformat": 4,
 "nbformat_minor": 5
}
