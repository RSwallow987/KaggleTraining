{
 "cells": [
  {
   "cell_type": "code",
   "execution_count": 1,
   "id": "c1e23f12",
   "metadata": {
    "_cell_guid": "b1076dfc-b9ad-4769-8c92-a6c4dae69d19",
    "_uuid": "8f2839f25d086af736a60e9eeb907d3b93b6e0e5",
    "execution": {
     "iopub.execute_input": "2024-02-19T19:26:17.618784Z",
     "iopub.status.busy": "2024-02-19T19:26:17.618290Z",
     "iopub.status.idle": "2024-02-19T19:26:18.674096Z",
     "shell.execute_reply": "2024-02-19T19:26:18.672578Z"
    },
    "papermill": {
     "duration": 1.064311,
     "end_time": "2024-02-19T19:26:18.676572",
     "exception": false,
     "start_time": "2024-02-19T19:26:17.612261",
     "status": "completed"
    },
    "tags": []
   },
   "outputs": [
    {
     "name": "stdout",
     "output_type": "stream",
     "text": [
      "/kaggle/input/playground-series-s3e26/sample_submission.csv\n",
      "/kaggle/input/playground-series-s3e26/train.csv\n",
      "/kaggle/input/playground-series-s3e26/test.csv\n"
     ]
    }
   ],
   "source": [
    "# This Python 3 environment comes with many helpful analytics libraries installed\n",
    "# It is defined by the kaggle/python Docker image: https://github.com/kaggle/docker-python\n",
    "# For example, here's several helpful packages to load\n",
    "\n",
    "import numpy as np # linear algebra\n",
    "import pandas as pd # data processing, CSV file I/O (e.g. pd.read_csv)\n",
    "\n",
    "# Input data files are available in the read-only \"../input/\" directory\n",
    "# For example, running this (by clicking run or pressing Shift+Enter) will list all files under the input directory\n",
    "\n",
    "import os\n",
    "for dirname, _, filenames in os.walk('/kaggle/input'):\n",
    "    for filename in filenames:\n",
    "        print(os.path.join(dirname, filename))\n",
    "\n",
    "# You can write up to 20GB to the current directory (/kaggle/working/) that gets preserved as output when you create a version using \"Save & Run All\" \n",
    "# You can also write temporary files to /kaggle/temp/, but they won't be saved outside of the current session"
   ]
  },
  {
   "cell_type": "markdown",
   "id": "c0b0e8de",
   "metadata": {
    "papermill": {
     "duration": 0.003818,
     "end_time": "2024-02-19T19:26:18.684649",
     "exception": false,
     "start_time": "2024-02-19T19:26:18.680831",
     "status": "completed"
    },
    "tags": []
   },
   "source": [
    "## Load in datasets"
   ]
  },
  {
   "cell_type": "code",
   "execution_count": 2,
   "id": "82834cb7",
   "metadata": {
    "execution": {
     "iopub.execute_input": "2024-02-19T19:26:18.694518Z",
     "iopub.status.busy": "2024-02-19T19:26:18.693981Z",
     "iopub.status.idle": "2024-02-19T19:26:18.775783Z",
     "shell.execute_reply": "2024-02-19T19:26:18.774517Z"
    },
    "papermill": {
     "duration": 0.090523,
     "end_time": "2024-02-19T19:26:18.778820",
     "exception": false,
     "start_time": "2024-02-19T19:26:18.688297",
     "status": "completed"
    },
    "tags": []
   },
   "outputs": [],
   "source": [
    "train=pd.read_csv('/kaggle/input/playground-series-s3e26/train.csv')\n",
    "test=pd.read_csv('/kaggle/input/playground-series-s3e26/test.csv')"
   ]
  },
  {
   "cell_type": "markdown",
   "id": "db734995",
   "metadata": {
    "papermill": {
     "duration": 0.00361,
     "end_time": "2024-02-19T19:26:18.786277",
     "exception": false,
     "start_time": "2024-02-19T19:26:18.782667",
     "status": "completed"
    },
    "tags": []
   },
   "source": [
    "## Initial EDA"
   ]
  },
  {
   "cell_type": "markdown",
   "id": "12380778",
   "metadata": {
    "papermill": {
     "duration": 0.004137,
     "end_time": "2024-02-19T19:26:18.794420",
     "exception": false,
     "start_time": "2024-02-19T19:26:18.790283",
     "status": "completed"
    },
    "tags": []
   },
   "source": [
    "Initial shape of test and training data provided as well as columns to work with."
   ]
  },
  {
   "cell_type": "code",
   "execution_count": 3,
   "id": "1a9b4d64",
   "metadata": {
    "execution": {
     "iopub.execute_input": "2024-02-19T19:26:18.805865Z",
     "iopub.status.busy": "2024-02-19T19:26:18.805468Z",
     "iopub.status.idle": "2024-02-19T19:26:18.816060Z",
     "shell.execute_reply": "2024-02-19T19:26:18.814092Z"
    },
    "papermill": {
     "duration": 0.020876,
     "end_time": "2024-02-19T19:26:18.819717",
     "exception": false,
     "start_time": "2024-02-19T19:26:18.798841",
     "status": "completed"
    },
    "tags": []
   },
   "outputs": [
    {
     "name": "stdout",
     "output_type": "stream",
     "text": [
      "(7905, 20)\n"
     ]
    },
    {
     "data": {
      "text/plain": [
       "Index(['id', 'N_Days', 'Drug', 'Age', 'Sex', 'Ascites', 'Hepatomegaly',\n",
       "       'Spiders', 'Edema', 'Bilirubin', 'Cholesterol', 'Albumin', 'Copper',\n",
       "       'Alk_Phos', 'SGOT', 'Tryglicerides', 'Platelets', 'Prothrombin',\n",
       "       'Stage', 'Status'],\n",
       "      dtype='object')"
      ]
     },
     "execution_count": 3,
     "metadata": {},
     "output_type": "execute_result"
    }
   ],
   "source": [
    "print(train.shape)\n",
    "train.columns"
   ]
  },
  {
   "cell_type": "code",
   "execution_count": 4,
   "id": "70a7d2fa",
   "metadata": {
    "execution": {
     "iopub.execute_input": "2024-02-19T19:26:18.830076Z",
     "iopub.status.busy": "2024-02-19T19:26:18.829677Z",
     "iopub.status.idle": "2024-02-19T19:26:18.935579Z",
     "shell.execute_reply": "2024-02-19T19:26:18.934201Z"
    },
    "papermill": {
     "duration": 0.114635,
     "end_time": "2024-02-19T19:26:18.938544",
     "exception": false,
     "start_time": "2024-02-19T19:26:18.823909",
     "status": "completed"
    },
    "tags": []
   },
   "outputs": [
    {
     "data": {
      "text/html": [
       "<div>\n",
       "<style scoped>\n",
       "    .dataframe tbody tr th:only-of-type {\n",
       "        vertical-align: middle;\n",
       "    }\n",
       "\n",
       "    .dataframe tbody tr th {\n",
       "        vertical-align: top;\n",
       "    }\n",
       "\n",
       "    .dataframe thead th {\n",
       "        text-align: right;\n",
       "    }\n",
       "</style>\n",
       "<table border=\"1\" class=\"dataframe\">\n",
       "  <thead>\n",
       "    <tr style=\"text-align: right;\">\n",
       "      <th></th>\n",
       "      <th>id</th>\n",
       "      <th>N_Days</th>\n",
       "      <th>Drug</th>\n",
       "      <th>Age</th>\n",
       "      <th>Sex</th>\n",
       "      <th>Ascites</th>\n",
       "      <th>Hepatomegaly</th>\n",
       "      <th>Spiders</th>\n",
       "      <th>Edema</th>\n",
       "      <th>Bilirubin</th>\n",
       "      <th>Cholesterol</th>\n",
       "      <th>Albumin</th>\n",
       "      <th>Copper</th>\n",
       "      <th>Alk_Phos</th>\n",
       "      <th>SGOT</th>\n",
       "      <th>Tryglicerides</th>\n",
       "      <th>Platelets</th>\n",
       "      <th>Prothrombin</th>\n",
       "      <th>Stage</th>\n",
       "      <th>Status</th>\n",
       "    </tr>\n",
       "  </thead>\n",
       "  <tbody>\n",
       "    <tr>\n",
       "      <th>count</th>\n",
       "      <td>7905.000000</td>\n",
       "      <td>7905.000000</td>\n",
       "      <td>7905</td>\n",
       "      <td>7905.000000</td>\n",
       "      <td>7905</td>\n",
       "      <td>7905</td>\n",
       "      <td>7905</td>\n",
       "      <td>7905</td>\n",
       "      <td>7905</td>\n",
       "      <td>7905.000000</td>\n",
       "      <td>7905.000000</td>\n",
       "      <td>7905.000000</td>\n",
       "      <td>7905.000000</td>\n",
       "      <td>7905.000000</td>\n",
       "      <td>7905.000000</td>\n",
       "      <td>7905.000000</td>\n",
       "      <td>7905.000000</td>\n",
       "      <td>7905.000000</td>\n",
       "      <td>7905.000000</td>\n",
       "      <td>7905</td>\n",
       "    </tr>\n",
       "    <tr>\n",
       "      <th>unique</th>\n",
       "      <td>NaN</td>\n",
       "      <td>NaN</td>\n",
       "      <td>2</td>\n",
       "      <td>NaN</td>\n",
       "      <td>2</td>\n",
       "      <td>2</td>\n",
       "      <td>2</td>\n",
       "      <td>2</td>\n",
       "      <td>3</td>\n",
       "      <td>NaN</td>\n",
       "      <td>NaN</td>\n",
       "      <td>NaN</td>\n",
       "      <td>NaN</td>\n",
       "      <td>NaN</td>\n",
       "      <td>NaN</td>\n",
       "      <td>NaN</td>\n",
       "      <td>NaN</td>\n",
       "      <td>NaN</td>\n",
       "      <td>NaN</td>\n",
       "      <td>3</td>\n",
       "    </tr>\n",
       "    <tr>\n",
       "      <th>top</th>\n",
       "      <td>NaN</td>\n",
       "      <td>NaN</td>\n",
       "      <td>Placebo</td>\n",
       "      <td>NaN</td>\n",
       "      <td>F</td>\n",
       "      <td>N</td>\n",
       "      <td>Y</td>\n",
       "      <td>N</td>\n",
       "      <td>N</td>\n",
       "      <td>NaN</td>\n",
       "      <td>NaN</td>\n",
       "      <td>NaN</td>\n",
       "      <td>NaN</td>\n",
       "      <td>NaN</td>\n",
       "      <td>NaN</td>\n",
       "      <td>NaN</td>\n",
       "      <td>NaN</td>\n",
       "      <td>NaN</td>\n",
       "      <td>NaN</td>\n",
       "      <td>C</td>\n",
       "    </tr>\n",
       "    <tr>\n",
       "      <th>freq</th>\n",
       "      <td>NaN</td>\n",
       "      <td>NaN</td>\n",
       "      <td>4010</td>\n",
       "      <td>NaN</td>\n",
       "      <td>7336</td>\n",
       "      <td>7525</td>\n",
       "      <td>4042</td>\n",
       "      <td>5966</td>\n",
       "      <td>7161</td>\n",
       "      <td>NaN</td>\n",
       "      <td>NaN</td>\n",
       "      <td>NaN</td>\n",
       "      <td>NaN</td>\n",
       "      <td>NaN</td>\n",
       "      <td>NaN</td>\n",
       "      <td>NaN</td>\n",
       "      <td>NaN</td>\n",
       "      <td>NaN</td>\n",
       "      <td>NaN</td>\n",
       "      <td>4965</td>\n",
       "    </tr>\n",
       "    <tr>\n",
       "      <th>mean</th>\n",
       "      <td>3952.000000</td>\n",
       "      <td>2030.173308</td>\n",
       "      <td>NaN</td>\n",
       "      <td>18373.146490</td>\n",
       "      <td>NaN</td>\n",
       "      <td>NaN</td>\n",
       "      <td>NaN</td>\n",
       "      <td>NaN</td>\n",
       "      <td>NaN</td>\n",
       "      <td>2.594485</td>\n",
       "      <td>350.561923</td>\n",
       "      <td>3.548323</td>\n",
       "      <td>83.902846</td>\n",
       "      <td>1816.745250</td>\n",
       "      <td>114.604602</td>\n",
       "      <td>115.340164</td>\n",
       "      <td>265.228969</td>\n",
       "      <td>10.629462</td>\n",
       "      <td>3.032511</td>\n",
       "      <td>NaN</td>\n",
       "    </tr>\n",
       "    <tr>\n",
       "      <th>std</th>\n",
       "      <td>2282.121272</td>\n",
       "      <td>1094.233744</td>\n",
       "      <td>NaN</td>\n",
       "      <td>3679.958739</td>\n",
       "      <td>NaN</td>\n",
       "      <td>NaN</td>\n",
       "      <td>NaN</td>\n",
       "      <td>NaN</td>\n",
       "      <td>NaN</td>\n",
       "      <td>3.812960</td>\n",
       "      <td>195.379344</td>\n",
       "      <td>0.346171</td>\n",
       "      <td>75.899266</td>\n",
       "      <td>1903.750657</td>\n",
       "      <td>48.790945</td>\n",
       "      <td>52.530402</td>\n",
       "      <td>87.465579</td>\n",
       "      <td>0.781735</td>\n",
       "      <td>0.866511</td>\n",
       "      <td>NaN</td>\n",
       "    </tr>\n",
       "    <tr>\n",
       "      <th>min</th>\n",
       "      <td>0.000000</td>\n",
       "      <td>41.000000</td>\n",
       "      <td>NaN</td>\n",
       "      <td>9598.000000</td>\n",
       "      <td>NaN</td>\n",
       "      <td>NaN</td>\n",
       "      <td>NaN</td>\n",
       "      <td>NaN</td>\n",
       "      <td>NaN</td>\n",
       "      <td>0.300000</td>\n",
       "      <td>120.000000</td>\n",
       "      <td>1.960000</td>\n",
       "      <td>4.000000</td>\n",
       "      <td>289.000000</td>\n",
       "      <td>26.350000</td>\n",
       "      <td>33.000000</td>\n",
       "      <td>62.000000</td>\n",
       "      <td>9.000000</td>\n",
       "      <td>1.000000</td>\n",
       "      <td>NaN</td>\n",
       "    </tr>\n",
       "    <tr>\n",
       "      <th>25%</th>\n",
       "      <td>1976.000000</td>\n",
       "      <td>1230.000000</td>\n",
       "      <td>NaN</td>\n",
       "      <td>15574.000000</td>\n",
       "      <td>NaN</td>\n",
       "      <td>NaN</td>\n",
       "      <td>NaN</td>\n",
       "      <td>NaN</td>\n",
       "      <td>NaN</td>\n",
       "      <td>0.700000</td>\n",
       "      <td>248.000000</td>\n",
       "      <td>3.350000</td>\n",
       "      <td>39.000000</td>\n",
       "      <td>834.000000</td>\n",
       "      <td>75.950000</td>\n",
       "      <td>84.000000</td>\n",
       "      <td>211.000000</td>\n",
       "      <td>10.000000</td>\n",
       "      <td>2.000000</td>\n",
       "      <td>NaN</td>\n",
       "    </tr>\n",
       "    <tr>\n",
       "      <th>50%</th>\n",
       "      <td>3952.000000</td>\n",
       "      <td>1831.000000</td>\n",
       "      <td>NaN</td>\n",
       "      <td>18713.000000</td>\n",
       "      <td>NaN</td>\n",
       "      <td>NaN</td>\n",
       "      <td>NaN</td>\n",
       "      <td>NaN</td>\n",
       "      <td>NaN</td>\n",
       "      <td>1.100000</td>\n",
       "      <td>298.000000</td>\n",
       "      <td>3.580000</td>\n",
       "      <td>63.000000</td>\n",
       "      <td>1181.000000</td>\n",
       "      <td>108.500000</td>\n",
       "      <td>104.000000</td>\n",
       "      <td>265.000000</td>\n",
       "      <td>10.600000</td>\n",
       "      <td>3.000000</td>\n",
       "      <td>NaN</td>\n",
       "    </tr>\n",
       "    <tr>\n",
       "      <th>75%</th>\n",
       "      <td>5928.000000</td>\n",
       "      <td>2689.000000</td>\n",
       "      <td>NaN</td>\n",
       "      <td>20684.000000</td>\n",
       "      <td>NaN</td>\n",
       "      <td>NaN</td>\n",
       "      <td>NaN</td>\n",
       "      <td>NaN</td>\n",
       "      <td>NaN</td>\n",
       "      <td>3.000000</td>\n",
       "      <td>390.000000</td>\n",
       "      <td>3.770000</td>\n",
       "      <td>102.000000</td>\n",
       "      <td>1857.000000</td>\n",
       "      <td>137.950000</td>\n",
       "      <td>139.000000</td>\n",
       "      <td>316.000000</td>\n",
       "      <td>11.000000</td>\n",
       "      <td>4.000000</td>\n",
       "      <td>NaN</td>\n",
       "    </tr>\n",
       "    <tr>\n",
       "      <th>max</th>\n",
       "      <td>7904.000000</td>\n",
       "      <td>4795.000000</td>\n",
       "      <td>NaN</td>\n",
       "      <td>28650.000000</td>\n",
       "      <td>NaN</td>\n",
       "      <td>NaN</td>\n",
       "      <td>NaN</td>\n",
       "      <td>NaN</td>\n",
       "      <td>NaN</td>\n",
       "      <td>28.000000</td>\n",
       "      <td>1775.000000</td>\n",
       "      <td>4.640000</td>\n",
       "      <td>588.000000</td>\n",
       "      <td>13862.400000</td>\n",
       "      <td>457.250000</td>\n",
       "      <td>598.000000</td>\n",
       "      <td>563.000000</td>\n",
       "      <td>18.000000</td>\n",
       "      <td>4.000000</td>\n",
       "      <td>NaN</td>\n",
       "    </tr>\n",
       "  </tbody>\n",
       "</table>\n",
       "</div>"
      ],
      "text/plain": [
       "                 id       N_Days     Drug           Age   Sex Ascites  \\\n",
       "count   7905.000000  7905.000000     7905   7905.000000  7905    7905   \n",
       "unique          NaN          NaN        2           NaN     2       2   \n",
       "top             NaN          NaN  Placebo           NaN     F       N   \n",
       "freq            NaN          NaN     4010           NaN  7336    7525   \n",
       "mean    3952.000000  2030.173308      NaN  18373.146490   NaN     NaN   \n",
       "std     2282.121272  1094.233744      NaN   3679.958739   NaN     NaN   \n",
       "min        0.000000    41.000000      NaN   9598.000000   NaN     NaN   \n",
       "25%     1976.000000  1230.000000      NaN  15574.000000   NaN     NaN   \n",
       "50%     3952.000000  1831.000000      NaN  18713.000000   NaN     NaN   \n",
       "75%     5928.000000  2689.000000      NaN  20684.000000   NaN     NaN   \n",
       "max     7904.000000  4795.000000      NaN  28650.000000   NaN     NaN   \n",
       "\n",
       "       Hepatomegaly Spiders Edema    Bilirubin  Cholesterol      Albumin  \\\n",
       "count          7905    7905  7905  7905.000000  7905.000000  7905.000000   \n",
       "unique            2       2     3          NaN          NaN          NaN   \n",
       "top               Y       N     N          NaN          NaN          NaN   \n",
       "freq           4042    5966  7161          NaN          NaN          NaN   \n",
       "mean            NaN     NaN   NaN     2.594485   350.561923     3.548323   \n",
       "std             NaN     NaN   NaN     3.812960   195.379344     0.346171   \n",
       "min             NaN     NaN   NaN     0.300000   120.000000     1.960000   \n",
       "25%             NaN     NaN   NaN     0.700000   248.000000     3.350000   \n",
       "50%             NaN     NaN   NaN     1.100000   298.000000     3.580000   \n",
       "75%             NaN     NaN   NaN     3.000000   390.000000     3.770000   \n",
       "max             NaN     NaN   NaN    28.000000  1775.000000     4.640000   \n",
       "\n",
       "             Copper      Alk_Phos         SGOT  Tryglicerides    Platelets  \\\n",
       "count   7905.000000   7905.000000  7905.000000    7905.000000  7905.000000   \n",
       "unique          NaN           NaN          NaN            NaN          NaN   \n",
       "top             NaN           NaN          NaN            NaN          NaN   \n",
       "freq            NaN           NaN          NaN            NaN          NaN   \n",
       "mean      83.902846   1816.745250   114.604602     115.340164   265.228969   \n",
       "std       75.899266   1903.750657    48.790945      52.530402    87.465579   \n",
       "min        4.000000    289.000000    26.350000      33.000000    62.000000   \n",
       "25%       39.000000    834.000000    75.950000      84.000000   211.000000   \n",
       "50%       63.000000   1181.000000   108.500000     104.000000   265.000000   \n",
       "75%      102.000000   1857.000000   137.950000     139.000000   316.000000   \n",
       "max      588.000000  13862.400000   457.250000     598.000000   563.000000   \n",
       "\n",
       "        Prothrombin        Stage Status  \n",
       "count   7905.000000  7905.000000   7905  \n",
       "unique          NaN          NaN      3  \n",
       "top             NaN          NaN      C  \n",
       "freq            NaN          NaN   4965  \n",
       "mean      10.629462     3.032511    NaN  \n",
       "std        0.781735     0.866511    NaN  \n",
       "min        9.000000     1.000000    NaN  \n",
       "25%       10.000000     2.000000    NaN  \n",
       "50%       10.600000     3.000000    NaN  \n",
       "75%       11.000000     4.000000    NaN  \n",
       "max       18.000000     4.000000    NaN  "
      ]
     },
     "execution_count": 4,
     "metadata": {},
     "output_type": "execute_result"
    }
   ],
   "source": [
    "train.describe(include='all')"
   ]
  },
  {
   "cell_type": "code",
   "execution_count": 5,
   "id": "2896840b",
   "metadata": {
    "execution": {
     "iopub.execute_input": "2024-02-19T19:26:18.950083Z",
     "iopub.status.busy": "2024-02-19T19:26:18.949695Z",
     "iopub.status.idle": "2024-02-19T19:26:18.963606Z",
     "shell.execute_reply": "2024-02-19T19:26:18.962102Z"
    },
    "papermill": {
     "duration": 0.022787,
     "end_time": "2024-02-19T19:26:18.966125",
     "exception": false,
     "start_time": "2024-02-19T19:26:18.943338",
     "status": "completed"
    },
    "tags": []
   },
   "outputs": [
    {
     "data": {
      "text/plain": [
       "id               0\n",
       "N_Days           0\n",
       "Drug             0\n",
       "Age              0\n",
       "Sex              0\n",
       "Ascites          0\n",
       "Hepatomegaly     0\n",
       "Spiders          0\n",
       "Edema            0\n",
       "Bilirubin        0\n",
       "Cholesterol      0\n",
       "Albumin          0\n",
       "Copper           0\n",
       "Alk_Phos         0\n",
       "SGOT             0\n",
       "Tryglicerides    0\n",
       "Platelets        0\n",
       "Prothrombin      0\n",
       "Stage            0\n",
       "Status           0\n",
       "dtype: int64"
      ]
     },
     "execution_count": 5,
     "metadata": {},
     "output_type": "execute_result"
    }
   ],
   "source": [
    "train.isna().sum()"
   ]
  },
  {
   "cell_type": "markdown",
   "id": "45e23665",
   "metadata": {
    "papermill": {
     "duration": 0.004367,
     "end_time": "2024-02-19T19:26:18.975081",
     "exception": false,
     "start_time": "2024-02-19T19:26:18.970714",
     "status": "completed"
    },
    "tags": []
   },
   "source": [
    "Identifying categories: Sex, Age (bins?), Stage, Status (target), Drug, Ascites, Hepatomegaly,Spiders and Edema. \n",
    "\n",
    "There are multiple things to consider here - catagorical variables and some catagorical variables that are ordinal. "
   ]
  },
  {
   "cell_type": "code",
   "execution_count": 6,
   "id": "86a940df",
   "metadata": {
    "execution": {
     "iopub.execute_input": "2024-02-19T19:26:18.986063Z",
     "iopub.status.busy": "2024-02-19T19:26:18.985690Z",
     "iopub.status.idle": "2024-02-19T19:26:18.999730Z",
     "shell.execute_reply": "2024-02-19T19:26:18.998238Z"
    },
    "papermill": {
     "duration": 0.022609,
     "end_time": "2024-02-19T19:26:19.002448",
     "exception": false,
     "start_time": "2024-02-19T19:26:18.979839",
     "status": "completed"
    },
    "tags": []
   },
   "outputs": [
    {
     "data": {
      "text/plain": [
       "Index(['Drug', 'Sex', 'Ascites', 'Hepatomegaly', 'Spiders', 'Edema'], dtype='object')"
      ]
     },
     "execution_count": 6,
     "metadata": {},
     "output_type": "execute_result"
    }
   ],
   "source": [
    "x=train.drop(axis='columns',labels='Status').dtypes\n",
    "x.value_counts()\n",
    "y=x[x.values == \"object\"]\n",
    "y.index"
   ]
  },
  {
   "cell_type": "code",
   "execution_count": 7,
   "id": "78c6b10e",
   "metadata": {
    "execution": {
     "iopub.execute_input": "2024-02-19T19:26:19.014131Z",
     "iopub.status.busy": "2024-02-19T19:26:19.013725Z",
     "iopub.status.idle": "2024-02-19T19:26:19.046772Z",
     "shell.execute_reply": "2024-02-19T19:26:19.045449Z"
    },
    "papermill": {
     "duration": 0.04238,
     "end_time": "2024-02-19T19:26:19.049649",
     "exception": false,
     "start_time": "2024-02-19T19:26:19.007269",
     "status": "completed"
    },
    "tags": []
   },
   "outputs": [],
   "source": [
    "for column in y.index.values:\n",
    "    with open('/kaggle/working/datalog.log', 'w') as logfile:\n",
    "        logfile.write(f'Train:{train[column].value_counts()/train[column].count()}')\n",
    "        logfile.write(f'Test:{test[column].value_counts()/test[column].count()}')"
   ]
  },
  {
   "cell_type": "code",
   "execution_count": null,
   "id": "5d53af18",
   "metadata": {
    "papermill": {
     "duration": 0.004294,
     "end_time": "2024-02-19T19:26:19.058616",
     "exception": false,
     "start_time": "2024-02-19T19:26:19.054322",
     "status": "completed"
    },
    "tags": []
   },
   "outputs": [],
   "source": []
  }
 ],
 "metadata": {
  "kaggle": {
   "accelerator": "none",
   "dataSources": [
    {
     "databundleVersionId": 7000181,
     "sourceId": 60893,
     "sourceType": "competition"
    }
   ],
   "dockerImageVersionId": 30646,
   "isGpuEnabled": false,
   "isInternetEnabled": true,
   "language": "python",
   "sourceType": "notebook"
  },
  "kernelspec": {
   "display_name": "Python 3",
   "language": "python",
   "name": "python3"
  },
  "language_info": {
   "codemirror_mode": {
    "name": "ipython",
    "version": 3
   },
   "file_extension": ".py",
   "mimetype": "text/x-python",
   "name": "python",
   "nbconvert_exporter": "python",
   "pygments_lexer": "ipython3",
   "version": "3.10.13"
  },
  "papermill": {
   "default_parameters": {},
   "duration": 5.739457,
   "end_time": "2024-02-19T19:26:19.584666",
   "environment_variables": {},
   "exception": null,
   "input_path": "__notebook__.ipynb",
   "output_path": "__notebook__.ipynb",
   "parameters": {},
   "start_time": "2024-02-19T19:26:13.845209",
   "version": "2.5.0"
  }
 },
 "nbformat": 4,
 "nbformat_minor": 5
}
